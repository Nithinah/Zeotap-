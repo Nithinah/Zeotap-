{
 "cells": [
  {
   "cell_type": "code",
   "execution_count": 1,
   "metadata": {},
   "outputs": [],
   "source": [
    "import pandas as pd\n",
    "from sklearn.preprocessing import StandardScaler\n",
    "from sklearn.neighbors import NearestNeighbors\n"
   ]
  },
  {
   "cell_type": "code",
   "execution_count": 2,
   "metadata": {},
   "outputs": [],
   "source": [
    "# Load datasets\n",
    "customers = pd.read_csv(\"D:\\\\Assignment\\\\Customers.csv\")\n",
    "products = pd.read_csv(\"D:\\\\Assignment\\\\Products.csv\")\n",
    "transactions = pd.read_csv(\"D:\\\\Assignment\\\\Transactions.csv\")"
   ]
  },
  {
   "cell_type": "code",
   "execution_count": 3,
   "metadata": {},
   "outputs": [],
   "source": [
    "merged_df = transactions.merge(customers, on=\"CustomerID\").merge(products, on=\"ProductID\")"
   ]
  },
  {
   "cell_type": "code",
   "execution_count": 4,
   "metadata": {},
   "outputs": [],
   "source": [
    "# Transaction history for each customer\n",
    "customer_features = merged_df.groupby(\"CustomerID\").agg(\n",
    "    total_spend=(\"TotalValue\", \"sum\"),\n",
    "    total_transactions=(\"TransactionID\", \"count\"),\n",
    "    avg_price=(\"Price_x\", \"mean\"),\n",
    "    unique_products=(\"ProductID\", \"nunique\")\n",
    ").reset_index()"
   ]
  },
  {
   "cell_type": "code",
   "execution_count": 5,
   "metadata": {},
   "outputs": [],
   "source": [
    "\n",
    "customer_profiles = customers.set_index(\"CustomerID\")[[\"Region\"]]\n",
    "customer_profiles = pd.get_dummies(customer_profiles)\n",
    "\n",
    "\n",
    "final_features = customer_features.set_index(\"CustomerID\").join(customer_profiles)"
   ]
  },
  {
   "cell_type": "code",
   "execution_count": 6,
   "metadata": {},
   "outputs": [],
   "source": [
    "# Normalization\n",
    "scaler = StandardScaler()\n",
    "normalized_features = scaler.fit_transform(final_features)\n"
   ]
  },
  {
   "cell_type": "code",
   "execution_count": 7,
   "metadata": {},
   "outputs": [],
   "source": [
    "# KNN\n",
    "nn_model = NearestNeighbors(n_neighbors=4, metric='euclidean')\n",
    "nn_model.fit(normalized_features)\n",
    "distances, indices = nn_model.kneighbors(normalized_features)"
   ]
  },
  {
   "cell_type": "code",
   "execution_count": 8,
   "metadata": {},
   "outputs": [
    {
     "name": "stdout",
     "output_type": "stream",
     "text": [
      "Lookalike model results saved to Nithin_V_Lookalike.csv\n"
     ]
    }
   ],
   "source": [
    "# Similar customers \n",
    "lookalike_results = {}\n",
    "for i, customer_id in enumerate(final_features.index[:20]):\n",
    "    similar_customers = [(final_features.index[idx], distances[i][j]) for j, idx in enumerate(indices[i][1:4])]\n",
    "    lookalike_results[customer_id] = similar_customers\n",
    "\n",
    "\n",
    "lookalike_df = pd.DataFrame([\n",
    "    [cust_id] + [item for pair in lookalike_results[cust_id] for item in pair]  \n",
    "    for cust_id in lookalike_results\n",
    "], columns=[\"CustomerID\", \"CustID_1\", \"Score_1\", \"CustID_2\", \"Score_2\", \"CustID_3\", \"Score_3\"])\n",
    "\n",
    "\n",
    "lookalike_df.to_csv(\"Nithin_V_Lookalike.csv\", index=False)  \n",
    "\n",
    "print(\"Lookalike model results saved to Nithin_V_Lookalike.csv\")\n"
   ]
  }
 ],
 "metadata": {
  "kernelspec": {
   "display_name": "Python 3",
   "language": "python",
   "name": "python3"
  },
  "language_info": {
   "codemirror_mode": {
    "name": "ipython",
    "version": 3
   },
   "file_extension": ".py",
   "mimetype": "text/x-python",
   "name": "python",
   "nbconvert_exporter": "python",
   "pygments_lexer": "ipython3",
   "version": "3.12.4"
  }
 },
 "nbformat": 4,
 "nbformat_minor": 2
}
